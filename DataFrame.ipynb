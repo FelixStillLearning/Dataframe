{
 "cells": [
  {
   "cell_type": "code",
   "execution_count": 5,
   "metadata": {},
   "outputs": [],
   "source": [
    "#1.Membaca File xcell menjadi dataframe\n",
    "import pandas as pd\n",
    "\n",
    "df = pd.read_excel('disperkim-od_16985_jumlah_produksi_sampah_berdasarkan_kabupatenkota_v3_data.xlsx', sheet_name='data')\n",
    "dfsampah = df[['tahun','nama_kabupaten_kota','jumlah_produksi_sampah']]\n",
    "\n",
    "dfsampah.to_csv('no1.csv', index=False)\n",
    "dfsampah.to_excel('no1.xlsx', index=False)"
   ]
  },
  {
   "cell_type": "code",
   "execution_count": 6,
   "metadata": {},
   "outputs": [],
   "source": [
    "tps = 0\n",
    "tahun_yangdimau = 2018\n",
    "for i,j in df.iterrows(): \n",
    "    if j['tahun'] == tahun_yangdimau:\n",
    "        tps += j['jumlah_produksi_sampah']\n",
    "\n",
    "df_2 = pd.DataFrame([{'Tahun': tahun_yangdimau, 'Total Produksi sampah (Ton)': tps}])\n",
    "df_2.to_csv('no2.csv', index=False)\n",
    "df_2.to_excel('no2.xlsx', index=False)"
   ]
  },
  {
   "cell_type": "code",
   "execution_count": 7,
   "metadata": {},
   "outputs": [],
   "source": [
    "\n",
    "jumlah_sampah_pertahun = {\n",
    "    2015: 0,\n",
    "    2016: 0,\n",
    "    2017: 0,\n",
    "    2018: 0,\n",
    "    2019: 0,\n",
    "    2020: 0,\n",
    "    2021: 0,\n",
    "    2022: 0,\n",
    "    2023: 0\n",
    "}\n",
    "\n",
    "for i,r in df.iterrows():\n",
    "    tahun = r['tahun']\n",
    "    if tahun in jumlah_sampah_pertahun :\n",
    "        jumlah_sampah_pertahun[tahun] += r['jumlah_produksi_sampah']\n",
    "\n",
    "df_3 = pd.DataFrame(jumlah_sampah_pertahun.items(), columns=['Tahun', 'Jumlah total Sampah : (Ton)'])\n",
    "df_3.to_csv('no3.csv', index=False)\n",
    "df_3.to_excel('no3.xlsx', index=False)"
   ]
  },
  {
   "cell_type": "code",
   "execution_count": 8,
   "metadata": {},
   "outputs": [],
   "source": [
    "dic= {}\n",
    "\n",
    "for i, r in df.iterrows():\n",
    "    tahun = r['tahun']\n",
    "    kota = r['nama_kabupaten_kota']\n",
    "    jumlah_sampah = r['jumlah_produksi_sampah']\n",
    "    \n",
    "    if kota not in dic:\n",
    "        dic[kota] = {}\n",
    "    \n",
    "    if tahun not in dic[kota]:\n",
    "        dic[kota][tahun] = 0\n",
    "    \n",
    "    if not pd.isna(jumlah_sampah):\n",
    "        dic[kota][tahun] += jumlah_sampah\n",
    "\n",
    "data = []\n",
    "for kota, yeardata in dic.items():\n",
    "    for tahun, jumlah in yeardata.items():\n",
    "        data.append({'Kota atau Kabupatennya': kota, 'tahun': tahun, 'jumlah total sampah (Ton)': jumlah})\n",
    "\n",
    "df_4 = pd.DataFrame(data)\n",
    "df_4.to_csv('no4.csv', index=False)\n",
    "df_4.to_excel('no4.xlsx', index=False)"
   ]
  }
 ],
 "metadata": {
  "kernelspec": {
   "display_name": "1dayorday1",
   "language": "python",
   "name": "python3"
  },
  "language_info": {
   "codemirror_mode": {
    "name": "ipython",
    "version": 3
   },
   "file_extension": ".py",
   "mimetype": "text/x-python",
   "name": "python",
   "nbconvert_exporter": "python",
   "pygments_lexer": "ipython3",
   "version": "3.11.9"
  }
 },
 "nbformat": 4,
 "nbformat_minor": 2
}
